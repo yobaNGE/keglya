{
 "cells": [
  {
   "cell_type": "code",
   "execution_count": 1,
   "id": "6aeaf9f3",
   "metadata": {
    "_cell_guid": "8459d33a-219b-43e5-b165-f7ef283444fc",
    "_uuid": "5874cfaa-43ba-45f6-9b64-cab484c00d34",
    "collapsed": false,
    "execution": {
     "iopub.execute_input": "2023-05-01T09:24:12.678742Z",
     "iopub.status.busy": "2023-05-01T09:24:12.678378Z",
     "iopub.status.idle": "2023-05-01T09:24:13.740697Z",
     "shell.execute_reply": "2023-05-01T09:24:13.739427Z"
    },
    "jupyter": {
     "outputs_hidden": false
    },
    "papermill": {
     "duration": 1.06928,
     "end_time": "2023-05-01T09:24:13.743370",
     "exception": false,
     "start_time": "2023-05-01T09:24:12.674090",
     "status": "completed"
    },
    "tags": []
   },
   "outputs": [
    {
     "name": "stdout",
     "output_type": "stream",
     "text": [
      "Mon May  1 09:24:13 2023       \r\n",
      "+-----------------------------------------------------------------------------+\r\n",
      "| NVIDIA-SMI 470.161.03   Driver Version: 470.161.03   CUDA Version: 11.4     |\r\n",
      "|-------------------------------+----------------------+----------------------+\r\n",
      "| GPU  Name        Persistence-M| Bus-Id        Disp.A | Volatile Uncorr. ECC |\r\n",
      "| Fan  Temp  Perf  Pwr:Usage/Cap|         Memory-Usage | GPU-Util  Compute M. |\r\n",
      "|                               |                      |               MIG M. |\r\n",
      "|===============================+======================+======================|\r\n",
      "|   0  Tesla T4            Off  | 00000000:00:04.0 Off |                    0 |\r\n",
      "| N/A   42C    P8     9W /  70W |      0MiB / 15109MiB |      0%      Default |\r\n",
      "|                               |                      |                  N/A |\r\n",
      "+-------------------------------+----------------------+----------------------+\r\n",
      "|   1  Tesla T4            Off  | 00000000:00:05.0 Off |                    0 |\r\n",
      "| N/A   41C    P8     9W /  70W |      0MiB / 15109MiB |      0%      Default |\r\n",
      "|                               |                      |                  N/A |\r\n",
      "+-------------------------------+----------------------+----------------------+\r\n",
      "                                                                               \r\n",
      "+-----------------------------------------------------------------------------+\r\n",
      "| Processes:                                                                  |\r\n",
      "|  GPU   GI   CI        PID   Type   Process name                  GPU Memory |\r\n",
      "|        ID   ID                                                   Usage      |\r\n",
      "|=============================================================================|\r\n",
      "|  No running processes found                                                 |\r\n",
      "+-----------------------------------------------------------------------------+\r\n"
     ]
    }
   ],
   "source": [
    "# Проверяем наличие видеокарты в блокноте\n",
    "\n",
    "!nvidia-smi"
   ]
  },
  {
   "cell_type": "code",
   "execution_count": 2,
   "id": "62c5dff6",
   "metadata": {
    "_cell_guid": "dc48aa18-f07b-42c2-bf9a-9e44a21d958d",
    "_uuid": "825a833e-8c49-4cba-9c19-44e0cd449712",
    "collapsed": false,
    "execution": {
     "iopub.execute_input": "2023-05-01T09:24:13.750298Z",
     "iopub.status.busy": "2023-05-01T09:24:13.749228Z",
     "iopub.status.idle": "2023-05-01T09:32:09.199076Z",
     "shell.execute_reply": "2023-05-01T09:32:09.197683Z"
    },
    "jupyter": {
     "outputs_hidden": false
    },
    "papermill": {
     "duration": 475.456204,
     "end_time": "2023-05-01T09:32:09.202058",
     "exception": false,
     "start_time": "2023-05-01T09:24:13.745854",
     "status": "completed"
    },
    "tags": []
   },
   "outputs": [
    {
     "name": "stdout",
     "output_type": "stream",
     "text": [
      "\u001b[33mWARNING: Running pip as the 'root' user can result in broken permissions and conflicting behaviour with the system package manager. It is recommended to use a virtual environment instead: https://pip.pypa.io/warnings/venv\u001b[0m\u001b[33m\r\n",
      "\u001b[0m"
     ]
    }
   ],
   "source": [
    "# Установка зависимостей\n",
    "\n",
    "!mamba create -n py310 -y > /dev/null\n",
    "!source /opt/conda/bin/activate py310 && mamba install python=3.10 jupyter mamba -y > /dev/null\n",
    "\n",
    "!sudo rm /opt/conda/bin/python3 > /dev/null\n",
    "!sudo ln -sf /opt/conda/envs/py310/bin/python3 /opt/conda/bin/python3 > /dev/null\n",
    "!sudo rm /opt/conda/bin/python3.7 > /dev/null\n",
    "!sudo ln -sf /opt/conda/envs/py310/bin/python3 /opt/conda/bin/python3.7 > /dev/null\n",
    "!sudo rm /opt/conda/bin/python > /dev/null\n",
    "!sudo ln -sf /opt/conda/envs/py310/bin/python3 /opt/conda/bin/python > /dev/null\n",
    "!source /opt/conda/bin/activate /opt/conda/envs/py310 > /dev/null\n",
    "!pip install -U --no-warn-script-location so-vits-svc-fork > /dev/null\n",
    "!cd /kaggle/working > /dev/null"
   ]
  },
  {
   "cell_type": "code",
   "execution_count": 3,
   "id": "07ab90b0",
   "metadata": {
    "_cell_guid": "71910f14-f867-4e22-bfaf-84dd439db75f",
    "_uuid": "33609b9d-9d05-47ab-9cfb-cebee2a30d24",
    "collapsed": false,
    "execution": {
     "iopub.execute_input": "2023-05-01T09:32:09.209523Z",
     "iopub.status.busy": "2023-05-01T09:32:09.208367Z",
     "iopub.status.idle": "2023-05-01T09:32:28.173853Z",
     "shell.execute_reply": "2023-05-01T09:32:28.172659Z"
    },
    "jupyter": {
     "outputs_hidden": false
    },
    "papermill": {
     "duration": 18.972555,
     "end_time": "2023-05-01T09:32:28.177089",
     "exception": false,
     "start_time": "2023-05-01T09:32:09.204534",
     "status": "completed"
    },
    "tags": []
   },
   "outputs": [
    {
     "name": "stdout",
     "output_type": "stream",
     "text": [
      "\u001b[2;36m[09:32:16]\u001b[0m\u001b[2;36m \u001b[0m\u001b[34mINFO    \u001b[0m \u001b[1m[\u001b[0m\u001b[1;92m09:32:16\u001b[0m\u001b[1m]\u001b[0m Version: \u001b[1;36m3.12\u001b[0m.\u001b[1;36m1\u001b[0m                    \u001b]8;id=186732;file:///opt/conda/envs/py310/lib/python3.10/site-packages/so_vits_svc_fork/__main__.py\u001b\\\u001b[2m__main__.py\u001b[0m\u001b]8;;\u001b\\\u001b[2m:\u001b[0m\u001b]8;id=892783;file:///opt/conda/envs/py310/lib/python3.10/site-packages/so_vits_svc_fork/__main__.py#32\u001b\\\u001b[2m32\u001b[0m\u001b]8;;\u001b\\\r\n",
      "Usage: svc pre-resample [OPTIONS]\r\n",
      "Try 'svc pre-resample -h' for help.\r\n",
      "\r\n",
      "Error: Invalid value for '-i' / '--input-dir': Path 'dataset_raw_raw/' does not exist.\r\n"
     ]
    },
    {
     "name": "stdout",
     "output_type": "stream",
     "text": [
      "\u001b[2;36m[09:32:22]\u001b[0m\u001b[2;36m \u001b[0m\u001b[34mINFO    \u001b[0m \u001b[1m[\u001b[0m\u001b[1;92m09:32:22\u001b[0m\u001b[1m]\u001b[0m Version: \u001b[1;36m3.12\u001b[0m.\u001b[1;36m1\u001b[0m                    \u001b]8;id=845154;file:///opt/conda/envs/py310/lib/python3.10/site-packages/so_vits_svc_fork/__main__.py\u001b\\\u001b[2m__main__.py\u001b[0m\u001b]8;;\u001b\\\u001b[2m:\u001b[0m\u001b]8;id=256972;file:///opt/conda/envs/py310/lib/python3.10/site-packages/so_vits_svc_fork/__main__.py#32\u001b\\\u001b[2m32\u001b[0m\u001b]8;;\u001b\\\r\n",
      "Usage: svc pre-config [OPTIONS]\r\n",
      "Try 'svc pre-config -h' for help.\r\n",
      "\r\n",
      "Error: Invalid value for '-i' / '--input-dir': Path 'dataset/44k' does not exist.\r\n"
     ]
    },
    {
     "name": "stdout",
     "output_type": "stream",
     "text": [
      "\u001b[2;36m[09:32:27]\u001b[0m\u001b[2;36m \u001b[0m\u001b[34mINFO    \u001b[0m \u001b[1m[\u001b[0m\u001b[1;92m09:32:27\u001b[0m\u001b[1m]\u001b[0m Version: \u001b[1;36m3.12\u001b[0m.\u001b[1;36m1\u001b[0m                    \u001b]8;id=107929;file:///opt/conda/envs/py310/lib/python3.10/site-packages/so_vits_svc_fork/__main__.py\u001b\\\u001b[2m__main__.py\u001b[0m\u001b]8;;\u001b\\\u001b[2m:\u001b[0m\u001b]8;id=387150;file:///opt/conda/envs/py310/lib/python3.10/site-packages/so_vits_svc_fork/__main__.py#32\u001b\\\u001b[2m32\u001b[0m\u001b]8;;\u001b\\\r\n",
      "Usage: svc pre-hubert [OPTIONS]\r\n",
      "Try 'svc pre-hubert -h' for help.\r\n",
      "\r\n",
      "Error: Invalid value for '-i' / '--input-dir': Path 'dataset/44k' does not exist.\r\n"
     ]
    }
   ],
   "source": [
    "# Предобработка датасета (скипнуть если уже выполнили)\n",
    "\n",
    "!/opt/conda/envs/py310/bin/svc pre-resample -i \"dataset_raw_raw/\"\n",
    "!/opt/conda/envs/py310/bin/svc pre-config\n",
    "!/opt/conda/envs/py310/bin/svc pre-hubert"
   ]
  },
  {
   "cell_type": "code",
   "execution_count": 4,
   "id": "7c346f35",
   "metadata": {
    "_cell_guid": "32e754c7-bf35-4e03-b009-7ec857a0356d",
    "_uuid": "9e1c167e-df81-48f8-84cf-5777442559d2",
    "collapsed": false,
    "execution": {
     "iopub.execute_input": "2023-05-01T09:32:28.184182Z",
     "iopub.status.busy": "2023-05-01T09:32:28.183863Z",
     "iopub.status.idle": "2023-05-01T09:32:34.943975Z",
     "shell.execute_reply": "2023-05-01T09:32:34.942640Z"
    },
    "jupyter": {
     "outputs_hidden": false
    },
    "papermill": {
     "duration": 6.766797,
     "end_time": "2023-05-01T09:32:34.946617",
     "exception": false,
     "start_time": "2023-05-01T09:32:28.179820",
     "status": "completed"
    },
    "tags": []
   },
   "outputs": [
    {
     "name": "stdout",
     "output_type": "stream",
     "text": [
      "rm: cannot remove 'dataset': No such file or directory\r\n"
     ]
    }
   ],
   "source": [
    "!mkdir -p \"dataset_raw_raw\"\n",
    "!mkdir -p \"dataset_raw\"\n",
    "!rm -r \"dataset\"\n",
    "!cp -R /kaggle/input/1klassenotails/ -t \"dataset_raw_raw/\""
   ]
  },
  {
   "cell_type": "code",
   "execution_count": 5,
   "id": "ee5bb098",
   "metadata": {
    "_cell_guid": "52c33000-5e4a-40f6-bc26-2361cafdf37c",
    "_uuid": "87f3fb17-1e63-439e-a08b-7e21c1832e06",
    "collapsed": false,
    "execution": {
     "iopub.execute_input": "2023-05-01T09:32:34.953857Z",
     "iopub.status.busy": "2023-05-01T09:32:34.953498Z",
     "iopub.status.idle": "2023-05-01T09:32:40.114151Z",
     "shell.execute_reply": "2023-05-01T09:32:40.112713Z"
    },
    "jupyter": {
     "outputs_hidden": false
    },
    "papermill": {
     "duration": 5.167912,
     "end_time": "2023-05-01T09:32:40.117423",
     "exception": false,
     "start_time": "2023-05-01T09:32:34.949511",
     "status": "completed"
    },
    "scrolled": true,
    "tags": []
   },
   "outputs": [
    {
     "name": "stdout",
     "output_type": "stream",
     "text": [
      "\u001b[2;36m[09:32:39]\u001b[0m\u001b[2;36m \u001b[0m\u001b[34mINFO    \u001b[0m \u001b[1m[\u001b[0m\u001b[1;92m09:32:39\u001b[0m\u001b[1m]\u001b[0m Version: \u001b[1;36m3.12\u001b[0m.\u001b[1;36m1\u001b[0m                    \u001b]8;id=105781;file:///opt/conda/envs/py310/lib/python3.10/site-packages/so_vits_svc_fork/__main__.py\u001b\\\u001b[2m__main__.py\u001b[0m\u001b]8;;\u001b\\\u001b[2m:\u001b[0m\u001b]8;id=954040;file:///opt/conda/envs/py310/lib/python3.10/site-packages/so_vits_svc_fork/__main__.py#32\u001b\\\u001b[2m32\u001b[0m\u001b]8;;\u001b\\\r\n",
      "Usage: svc train [OPTIONS]\r\n",
      "Try 'svc train -h' for help.\r\n",
      "\r\n",
      "Error: Invalid value for '-c' / '--config-path': Path 'configs/44k/config.json' does not exist.\r\n"
     ]
    }
   ],
   "source": [
    "# Запуск тренировки\n",
    "\n",
    "!/opt/conda/envs/py310/bin/svc train --model-path logs/44k"
   ]
  },
  {
   "cell_type": "code",
   "execution_count": 6,
   "id": "97fdde2b",
   "metadata": {
    "_cell_guid": "5464095e-14fe-4333-85f2-cbf63b92eb4d",
    "_uuid": "22a4f7f7-314e-4d9a-956d-118bb32bc409",
    "collapsed": false,
    "execution": {
     "iopub.execute_input": "2023-05-01T09:32:40.135593Z",
     "iopub.status.busy": "2023-05-01T09:32:40.135154Z",
     "iopub.status.idle": "2023-05-01T09:32:41.191015Z",
     "shell.execute_reply": "2023-05-01T09:32:41.189737Z"
    },
    "jupyter": {
     "outputs_hidden": false
    },
    "papermill": {
     "duration": 1.065846,
     "end_time": "2023-05-01T09:32:41.193704",
     "exception": false,
     "start_time": "2023-05-01T09:32:40.127858",
     "status": "completed"
    },
    "tags": []
   },
   "outputs": [
    {
     "name": "stdout",
     "output_type": "stream",
     "text": [
      "\tzip warning: name not matched: logs/\r\n",
      "\r\n",
      "zip error: Nothing to do! (try: zip -r logs.zip . -i logs/)\r\n"
     ]
    },
    {
     "data": {
      "text/html": [
       "Path (<tt>logs.zip</tt>) doesn't exist. It may still be in the process of being generated, or you may have the incorrect path."
      ],
      "text/plain": [
       "/kaggle/working/logs.zip"
      ]
     },
     "execution_count": 6,
     "metadata": {},
     "output_type": "execute_result"
    }
   ],
   "source": [
    "!zip -r logs.zip logs/\n",
    "from IPython.display import FileLink\n",
    "\n",
    "FileLink(r'logs.zip')"
   ]
  }
 ],
 "metadata": {
  "kernelspec": {
   "display_name": "Python 3",
   "language": "python",
   "name": "python3"
  },
  "language_info": {
   "codemirror_mode": {
    "name": "ipython",
    "version": 3
   },
   "file_extension": ".py",
   "mimetype": "text/x-python",
   "name": "python",
   "nbconvert_exporter": "python",
   "pygments_lexer": "ipython3",
   "version": "3.7.12"
  },
  "papermill": {
   "default_parameters": {},
   "duration": 521.67249,
   "end_time": "2023-05-01T09:32:41.820358",
   "environment_variables": {},
   "exception": null,
   "input_path": "__notebook__.ipynb",
   "output_path": "__notebook__.ipynb",
   "parameters": {},
   "start_time": "2023-05-01T09:24:00.147868",
   "version": "2.4.0"
  }
 },
 "nbformat": 4,
 "nbformat_minor": 5
}